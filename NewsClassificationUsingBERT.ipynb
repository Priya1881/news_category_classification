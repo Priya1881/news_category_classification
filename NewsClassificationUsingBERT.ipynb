{
  "nbformat": 4,
  "nbformat_minor": 0,
  "metadata": {
    "accelerator": "GPU",
    "colab": {
      "name": "NewsClassificationUsingBERT.ipynb",
      "provenance": [],
      "collapsed_sections": [],
      "mount_file_id": "1ETSui5vBZD7peSoOjxsHwIx3UD8baupf",
      "authorship_tag": "ABX9TyOU4PWfgY29TTyaVNL1urd2",
      "include_colab_link": true
    },
    "kernelspec": {
      "display_name": "Python 3",
      "name": "python3"
    },
    "language_info": {
      "name": "python"
    }
  },
  "cells": [
    {
      "cell_type": "markdown",
      "metadata": {
        "id": "view-in-github",
        "colab_type": "text"
      },
      "source": [
        "<a href=\"https://colab.research.google.com/github/Priya1881/news_category_classification/blob/main/NewsClassificationUsingBERT.ipynb\" target=\"_parent\"><img src=\"https://colab.research.google.com/assets/colab-badge.svg\" alt=\"Open In Colab\"/></a>"
      ]
    },
    {
      "cell_type": "code",
      "metadata": {
        "id": "6mRtq10oFa_6"
      },
      "source": [
        "!pip install tensorflow_text"
      ],
      "execution_count": null,
      "outputs": []
    },
    {
      "cell_type": "code",
      "metadata": {
        "colab": {
          "base_uri": "https://localhost:8080/"
        },
        "id": "z2_2c_0LIHf4",
        "outputId": "102dd6cb-52a3-474c-af33-4f68cb9c37b0"
      },
      "source": [
        "!pip install tensorflow_hub"
      ],
      "execution_count": null,
      "outputs": [
        {
          "output_type": "stream",
          "name": "stdout",
          "text": [
            "Requirement already satisfied: tensorflow_hub in /usr/local/lib/python3.7/dist-packages (0.12.0)\n",
            "Requirement already satisfied: numpy>=1.12.0 in /usr/local/lib/python3.7/dist-packages (from tensorflow_hub) (1.19.5)\n",
            "Requirement already satisfied: protobuf>=3.8.0 in /usr/local/lib/python3.7/dist-packages (from tensorflow_hub) (3.17.3)\n",
            "Requirement already satisfied: six>=1.9 in /usr/local/lib/python3.7/dist-packages (from protobuf>=3.8.0->tensorflow_hub) (1.15.0)\n"
          ]
        }
      ]
    },
    {
      "cell_type": "code",
      "metadata": {
        "id": "Kq1ERQWXDc34"
      },
      "source": [
        "import tensorflow as tf\n",
        "import tensorflow_hub as hub\n",
        "import tensorflow_text as text"
      ],
      "execution_count": null,
      "outputs": []
    },
    {
      "cell_type": "code",
      "metadata": {
        "colab": {
          "base_uri": "https://localhost:8080/",
          "height": 204
        },
        "id": "uZ3RSIaiDieI",
        "outputId": "043dca7d-1857-4183-c830-4cfd736c0474"
      },
      "source": [
        "import pandas as pd\n",
        "\n",
        "df = pd.read_csv(\"/content/drive/MyDrive/bilstm_news.csv\")\n",
        "df.head()"
      ],
      "execution_count": null,
      "outputs": [
        {
          "output_type": "execute_result",
          "data": {
            "text/html": [
              "<div>\n",
              "<style scoped>\n",
              "    .dataframe tbody tr th:only-of-type {\n",
              "        vertical-align: middle;\n",
              "    }\n",
              "\n",
              "    .dataframe tbody tr th {\n",
              "        vertical-align: top;\n",
              "    }\n",
              "\n",
              "    .dataframe thead th {\n",
              "        text-align: right;\n",
              "    }\n",
              "</style>\n",
              "<table border=\"1\" class=\"dataframe\">\n",
              "  <thead>\n",
              "    <tr style=\"text-align: right;\">\n",
              "      <th></th>\n",
              "      <th>Unnamed: 0</th>\n",
              "      <th>Text</th>\n",
              "      <th>Category</th>\n",
              "    </tr>\n",
              "  </thead>\n",
              "  <tbody>\n",
              "    <tr>\n",
              "      <th>0</th>\n",
              "      <td>0</td>\n",
              "      <td>worldcom ex-boss launches defence lawyers defe...</td>\n",
              "      <td>business</td>\n",
              "    </tr>\n",
              "    <tr>\n",
              "      <th>1</th>\n",
              "      <td>1</td>\n",
              "      <td>german business confidence slides german busin...</td>\n",
              "      <td>business</td>\n",
              "    </tr>\n",
              "    <tr>\n",
              "      <th>2</th>\n",
              "      <td>2</td>\n",
              "      <td>bbc poll indicates economic gloom citizens in ...</td>\n",
              "      <td>business</td>\n",
              "    </tr>\n",
              "    <tr>\n",
              "      <th>3</th>\n",
              "      <td>3</td>\n",
              "      <td>lifestyle  governs mobile choice  faster  bett...</td>\n",
              "      <td>tech</td>\n",
              "    </tr>\n",
              "    <tr>\n",
              "      <th>4</th>\n",
              "      <td>4</td>\n",
              "      <td>enron bosses in $168m payout eighteen former e...</td>\n",
              "      <td>business</td>\n",
              "    </tr>\n",
              "  </tbody>\n",
              "</table>\n",
              "</div>"
            ],
            "text/plain": [
              "   Unnamed: 0                                               Text  Category\n",
              "0           0  worldcom ex-boss launches defence lawyers defe...  business\n",
              "1           1  german business confidence slides german busin...  business\n",
              "2           2  bbc poll indicates economic gloom citizens in ...  business\n",
              "3           3  lifestyle  governs mobile choice  faster  bett...      tech\n",
              "4           4  enron bosses in $168m payout eighteen former e...  business"
            ]
          },
          "metadata": {},
          "execution_count": 20
        }
      ]
    },
    {
      "cell_type": "code",
      "metadata": {
        "id": "NQisJkgBISo-"
      },
      "source": [
        "df.drop('Unnamed: 0',axis=1,inplace=True)"
      ],
      "execution_count": null,
      "outputs": []
    },
    {
      "cell_type": "code",
      "metadata": {
        "id": "esx3KEUDIeMA"
      },
      "source": [
        "data=df.copy()"
      ],
      "execution_count": null,
      "outputs": []
    },
    {
      "cell_type": "code",
      "metadata": {
        "id": "xLLTQF3ZKo59"
      },
      "source": [
        "from sklearn.preprocessing import LabelEncoder\n",
        "encoder=LabelEncoder()\n",
        "df['Category']=encoder.fit_transform(data['Category'])"
      ],
      "execution_count": null,
      "outputs": []
    },
    {
      "cell_type": "code",
      "metadata": {
        "id": "IRS9yhMxQe2M"
      },
      "source": [
        "df['Text'] = (data['Text']).apply(lambda row: row.strip())"
      ],
      "execution_count": null,
      "outputs": []
    },
    {
      "cell_type": "code",
      "metadata": {
        "colab": {
          "base_uri": "https://localhost:8080/"
        },
        "id": "5LzYFLpu5SRm",
        "outputId": "dae9e82f-49f6-425f-c827-ad5e751da676"
      },
      "source": [
        "df['Category'].value_counts()"
      ],
      "execution_count": null,
      "outputs": [
        {
          "output_type": "execute_result",
          "data": {
            "text/plain": [
              "5    346\n",
              "0    336\n",
              "4    300\n",
              "2    300\n",
              "3    274\n",
              "1    273\n",
              "6    261\n",
              "Name: Category, dtype: int64"
            ]
          },
          "metadata": {},
          "execution_count": 27
        }
      ]
    },
    {
      "cell_type": "code",
      "metadata": {
        "id": "o19k2iYJSnNN"
      },
      "source": [
        "labels=tf.keras.utils.to_categorical(df['Category'].values,num_classes=7)\n",
        "\n"
      ],
      "execution_count": null,
      "outputs": []
    },
    {
      "cell_type": "code",
      "metadata": {
        "colab": {
          "base_uri": "https://localhost:8080/"
        },
        "id": "lZQZa6Le7daG",
        "outputId": "f4a1d818-adc0-41e3-c7ba-1673594c2ae4"
      },
      "source": [
        "labels"
      ],
      "execution_count": null,
      "outputs": [
        {
          "output_type": "execute_result",
          "data": {
            "text/plain": [
              "array([[1., 0., 0., ..., 0., 0., 0.],\n",
              "       [1., 0., 0., ..., 0., 0., 0.],\n",
              "       [1., 0., 0., ..., 0., 0., 0.],\n",
              "       ...,\n",
              "       [0., 0., 1., ..., 0., 0., 0.],\n",
              "       [0., 0., 1., ..., 0., 0., 0.],\n",
              "       [0., 0., 1., ..., 0., 0., 0.]], dtype=float32)"
            ]
          },
          "metadata": {},
          "execution_count": 11
        }
      ]
    },
    {
      "cell_type": "code",
      "metadata": {
        "id": "OwjkVcxCDqSD"
      },
      "source": [
        "from sklearn.model_selection import train_test_split\n",
        "\n",
        "X_train, X_test, y_train, y_test = train_test_split(df['Text'],labels,test_size=0.3)"
      ],
      "execution_count": null,
      "outputs": []
    },
    {
      "cell_type": "markdown",
      "metadata": {
        "id": "wvwBC-n9D1bk"
      },
      "source": [
        "Now lets import BERT model and get embeding vectors for few sample statements\n"
      ]
    },
    {
      "cell_type": "code",
      "metadata": {
        "id": "e6Cq9FeeDycN"
      },
      "source": [
        "bert_preprocess = hub.KerasLayer(\"https://tfhub.dev/tensorflow/bert_en_uncased_preprocess/3\")\n",
        "bert_encoder = hub.KerasLayer(\"https://tfhub.dev/tensorflow/bert_en_uncased_L-12_H-768_A-12/4\")\n"
      ],
      "execution_count": null,
      "outputs": []
    },
    {
      "cell_type": "markdown",
      "metadata": {
        "id": "P-wT1s_lEMlf"
      },
      "source": [
        "Build Model\n",
        "There are two types of models you can build in tensorflow.\n",
        "\n",
        "(1) Sequential (2) Functional\n",
        "\n",
        "So far we have built sequential model. But below we will build functional model. More information on these two is here: https://becominghuman.ai/sequential-vs-functional-model-in-keras-20684f766057"
      ]
    },
    {
      "cell_type": "code",
      "metadata": {
        "id": "NWDrynYzEFHh"
      },
      "source": [
        "# Bert layers\n",
        "text_input = tf.keras.layers.Input(shape=(), dtype=tf.string, name='text')\n",
        "preprocessed_text = bert_preprocess(text_input)\n",
        "outputs = bert_encoder(preprocessed_text)\n",
        "\n",
        "# Neural network layers\n",
        "l = tf.keras.layers.Dropout(0.1, name=\"dropout\")(outputs['pooled_output'])\n",
        "l = tf.keras.layers.Dense(7, activation='softmax', name=\"output\")(l)\n",
        "\n",
        "# Use inputs and outputs to construct a final model\n",
        "model = tf.keras.Model(inputs=[text_input], outputs = [l])"
      ],
      "execution_count": null,
      "outputs": []
    },
    {
      "cell_type": "code",
      "metadata": {
        "id": "Lwk3hghFEOH7"
      },
      "source": [
        "METRICS = [\n",
        "      tf.keras.metrics.CategoricalAccuracy(name='accuracy'),\n",
        "      tf.keras.metrics.Precision(name='precision'),\n",
        "      tf.keras.metrics.Recall(name='recall')\n",
        "]\n",
        "\n",
        "model.compile(optimizer='adam',\n",
        "              loss='categorical_crossentropy',\n",
        "              metrics=METRICS)"
      ],
      "execution_count": null,
      "outputs": []
    },
    {
      "cell_type": "code",
      "metadata": {
        "id": "jP5bxh0mJ4L9"
      },
      "source": [
        "model.summary()"
      ],
      "execution_count": null,
      "outputs": []
    },
    {
      "cell_type": "code",
      "metadata": {
        "colab": {
          "base_uri": "https://localhost:8080/"
        },
        "id": "4IhUaqvCEVlL",
        "outputId": "684785e5-af9b-4a65-9ee6-f6603e4b818b"
      },
      "source": [
        "model.fit(X_train,y_train, epochs=12)"
      ],
      "execution_count": null,
      "outputs": [
        {
          "output_type": "stream",
          "name": "stdout",
          "text": [
            "Epoch 1/12\n",
            "46/46 [==============================] - 619s 13s/step - loss: 1.7801 - accuracy: 0.3021 - precision: 0.6562 - recall: 0.0144\n",
            "Epoch 2/12\n",
            "46/46 [==============================] - 608s 13s/step - loss: 1.4629 - accuracy: 0.4347 - precision: 0.6759 - recall: 0.0670\n",
            "Epoch 3/12\n",
            "46/46 [==============================] - 607s 13s/step - loss: 1.2780 - accuracy: 0.5284 - precision: 0.7785 - recall: 0.1586\n",
            "Epoch 4/12\n",
            "46/46 [==============================] - 609s 13s/step - loss: 1.1622 - accuracy: 0.5871 - precision: 0.7962 - recall: 0.2269\n",
            "Epoch 5/12\n",
            "46/46 [==============================] - 607s 13s/step - loss: 1.0633 - accuracy: 0.6446 - precision: 0.8267 - recall: 0.3001\n",
            "Epoch 6/12\n",
            "46/46 [==============================] - 622s 14s/step - loss: 0.9711 - accuracy: 0.7061 - precision: 0.8576 - recall: 0.3664\n",
            "Epoch 7/12\n",
            "46/46 [==============================] - 613s 13s/step - loss: 0.9169 - accuracy: 0.7348 - precision: 0.8699 - recall: 0.4252\n",
            "Epoch 8/12\n",
            "46/46 [==============================] - 605s 13s/step - loss: 0.8637 - accuracy: 0.7321 - precision: 0.8471 - recall: 0.4696\n",
            "Epoch 9/12\n",
            "46/46 [==============================] - 600s 13s/step - loss: 0.8329 - accuracy: 0.7444 - precision: 0.8502 - recall: 0.5003\n",
            "Epoch 10/12\n",
            "46/46 [==============================] - 616s 13s/step - loss: 0.7669 - accuracy: 0.7826 - precision: 0.8794 - recall: 0.5584\n",
            "Epoch 11/12\n",
            "46/46 [==============================] - 605s 13s/step - loss: 0.7368 - accuracy: 0.7772 - precision: 0.8859 - recall: 0.5892\n",
            "Epoch 12/12\n",
            "46/46 [==============================] - 621s 13s/step - loss: 0.7004 - accuracy: 0.7990 - precision: 0.8957 - recall: 0.6049\n"
          ]
        },
        {
          "output_type": "execute_result",
          "data": {
            "text/plain": [
              "<keras.callbacks.History at 0x7f8a613c7fd0>"
            ]
          },
          "metadata": {},
          "execution_count": 17
        }
      ]
    },
    {
      "cell_type": "code",
      "metadata": {
        "id": "kcZgmQLAEY0W",
        "colab": {
          "base_uri": "https://localhost:8080/"
        },
        "outputId": "a0a2dd73-4131-4099-c2a3-9091f2649269"
      },
      "source": [
        "model.evaluate(X_test, y_test)"
      ],
      "execution_count": null,
      "outputs": [
        {
          "output_type": "stream",
          "name": "stdout",
          "text": [
            "20/20 [==============================] - 261s 13s/step - loss: 0.6992 - accuracy: 0.8262 - precision: 0.9169 - recall: 0.6507\n"
          ]
        },
        {
          "output_type": "execute_result",
          "data": {
            "text/plain": [
              "[0.6991900205612183,\n",
              " 0.8261563181877136,\n",
              " 0.9168539047241211,\n",
              " 0.6507176756858826]"
            ]
          },
          "metadata": {},
          "execution_count": 18
        }
      ]
    },
    {
      "cell_type": "code",
      "metadata": {
        "id": "iDu4ZObhTiQA"
      },
      "source": [
        "#!mkdir -p /content/drive/MyDrive/saved_model\n",
        "#model.save('/content/drive/MyDrive/saved_model/my_model')"
      ],
      "execution_count": null,
      "outputs": []
    },
    {
      "cell_type": "code",
      "metadata": {
        "id": "MnLUWZQ9USlS"
      },
      "source": [
        "import tensorflow as tf\n",
        "import tensorflow_text as text # this has to be mentioned for loading the model \n",
        "\n",
        "new_model = tf.keras.models.load_model('/content/drive/MyDrive/saved_model/my_model')\n",
        "\n",
        "# Check its architecture\n",
        "new_model.summary()"
      ],
      "execution_count": null,
      "outputs": []
    },
    {
      "cell_type": "code",
      "metadata": {
        "id": "TkCWveKPRZVH"
      },
      "source": [
        " Evaluate the restored model\n",
        "loss, accuracy,precision,recall = new_model.evaluate(X_test, y_test, verbose=2)\n",
        "print('Restored model, accuracy: {:5.2f}%'.format(100 * acc))\n",
        "print(new_model.predict(X_test).shape)"
      ],
      "execution_count": null,
      "outputs": []
    },
    {
      "cell_type": "code",
      "metadata": {
        "colab": {
          "base_uri": "https://localhost:8080/"
        },
        "id": "ewEEwgDKWl5O",
        "outputId": "f74e9f5d-26b6-48a2-a00b-b093c03a32c4"
      },
      "source": [
        "print(new_model.predict(X_test).shape)"
      ],
      "execution_count": null,
      "outputs": [
        {
          "output_type": "stream",
          "name": "stdout",
          "text": [
            "(627, 7)\n"
          ]
        }
      ]
    },
    {
      "cell_type": "code",
      "metadata": {
        "id": "-nVpgSw_bEoG"
      },
      "source": [
        "def get_sentence_embeding(sentences):\n",
        "    preprocessed_text = bert_preprocess(sentences)\n",
        "    return bert_encoder(preprocessed_text)['pooled_output']\n",
        "\n",
        "input=get_sentence_embeding([\n",
        "    \"Shares of One97 Communications Limited\", \n",
        "    \"Bhavin, are you up for a volleybal game tomorrow?\"]\n",
        ")\n"
      ],
      "execution_count": null,
      "outputs": []
    },
    {
      "cell_type": "code",
      "metadata": {
        "id": "m-fpwKvng5XZ"
      },
      "source": [
        "business=\"The State Bank of India (SBI) has urged its customers to link PAN with Aadhaar for seamless banking services and to avoid any confusion. Check the details here.\"\n",
        "sport=\"Bhavin, are you up for a volleybal game tomorrow?\"\n",
        "tech=\"Airtel vs Vi Recharge Plans: Like Airtel, Vi’s upgraded base prepaid plans will also start from Rs 99, with the introduction of tariff hikes. Some plans from Vi are marginally cheaper than Airtel’s upgraded plans.\"\n",
        "ent=\"Scarlett Johansson received the American Cinematheque Award recently. She has become the 35th recipient of the award.\"\n",
        "science=\"Nasa has launched the Dart mission that will crash into an asteroid in an attempt to demonstrate a new planetary defence system.\"\n",
        "politics=\"Congress MLA from Rae Bareli in Uttar Pradesh, Aditi Singh is likely to join the Bharatiya Janata Party (BJP) later today.\"\n"
      ],
      "execution_count": null,
      "outputs": []
    },
    {
      "cell_type": "code",
      "metadata": {
        "colab": {
          "base_uri": "https://localhost:8080/"
        },
        "id": "Sqx0YUxNhTVP",
        "outputId": "a381bcd3-7ab0-4831-b211-b9ab5244e9be"
      },
      "source": [
        "prediction=new_model.predict([business])\n",
        "prediction"
      ],
      "execution_count": null,
      "outputs": [
        {
          "output_type": "execute_result",
          "data": {
            "text/plain": [
              "array([[0.05459446, 0.02856889, 0.23918629, 0.04781201, 0.56023693,\n",
              "        0.02407464, 0.04552682]], dtype=float32)"
            ]
          },
          "metadata": {},
          "execution_count": 16
        }
      ]
    },
    {
      "cell_type": "code",
      "metadata": {
        "id": "EmoOK1AsKkeA"
      },
      "source": [
        "import numpy as np\n",
        "#converting the one hot vector output to a linear numpy array.\n",
        "pred_class = np.argmax(prediction, axis = 1)"
      ],
      "execution_count": null,
      "outputs": []
    },
    {
      "cell_type": "code",
      "metadata": {
        "colab": {
          "base_uri": "https://localhost:8080/"
        },
        "id": "IbgoTvtUic9l",
        "outputId": "857f748a-3a85-4360-d6e5-8f3d507f6acb"
      },
      "source": [
        "if pred_class[0] == 0: \n",
        "   category='Business'\n",
        "if pred_class[0] == 1:\n",
        "    category='Entertainment'\n",
        "if pred_class[0] == 2:\n",
        "    category='Health'\n",
        "if pred_class[0] == 3:\n",
        "    category='Politics'\n",
        "if pred_class[0] == 4:\n",
        "    category='Science'\n",
        "if pred_class[0] == 5:\n",
        "    category='Sports'\n",
        "if pred_class[0] == 6: \n",
        "    category='Technology' \n",
        "\n",
        "print(category)\n"
      ],
      "execution_count": null,
      "outputs": [
        {
          "output_type": "stream",
          "name": "stdout",
          "text": [
            "Science\n"
          ]
        }
      ]
    }
  ]
}